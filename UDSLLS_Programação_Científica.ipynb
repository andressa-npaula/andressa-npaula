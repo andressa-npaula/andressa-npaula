{
  "nbformat": 4,
  "nbformat_minor": 0,
  "metadata": {
    "colab": {
      "provenance": []
    },
    "kernelspec": {
      "name": "python3",
      "display_name": "Python 3"
    },
    "language_info": {
      "name": "python"
    }
  },
  "cells": [
    {
      "cell_type": "code",
      "source": [
        "# UDSLLS-TVE - Programacao Dinamica para problema de dimensionamento de lotes\n",
        "\n",
        "# Dados do artigo (Tabela 3)\n",
        "demand = [69, 29, 36, 61, 61, 26, 34, 67, 45, 67, 79, 56]  # D_t\n",
        "setup =  [85, 102, 102, 98, 98, 114, 105, 86, 119, 110, 98, 114]  # s_t\n",
        "holding = [1]*12  # h_t\n",
        "alpha = 50  # parametro do custo de setup dependente do intervalo\n",
        "\n",
        "T = len(demand)\n",
        "\n",
        "# Funcao de custo de setup dependente do intervalo de tempo entre producoes\n",
        "def custo_setup(s, t):\n",
        "    return setup[s] + alpha * (t - s)  # como descrito no artigo\n",
        "\n",
        "# Programacao dinamica\n",
        "import numpy as np\n",
        "\n",
        "# Inicializacao\n",
        "dp = [0] + [np.inf] * T\n",
        "backtrack = [-1] * (T+1)\n",
        "\n",
        "for t in range(1, T+1):\n",
        "    for s in range(1, t+1):\n",
        "        estoque = sum(holding[j] * demand[j] * (j - (s-1)) for j in range(s-1, t))\n",
        "        custo_total = dp[s-1] + custo_setup(s-1, t-1) + estoque\n",
        "        if custo_total < dp[t]:\n",
        "            dp[t] = custo_total\n",
        "            backtrack[t] = s-1\n",
        "\n",
        "# Resultado final\n",
        "print(\"Custo total otimizado:\", dp[T])\n",
        "\n",
        "# Reconstrucao da politica de pedidos\n",
        "politica = []\n",
        "y = [0]*T  # y_t: 1 se produz no periodo t\n",
        "X = [0]*T  # X_t: quantidade produzida no periodo t\n",
        "t = T\n",
        "while t > 0:\n",
        "    s = backtrack[t]\n",
        "    y[s] = 1\n",
        "    X[s] = sum(demand[s:t])\n",
        "    politica.append((s+1, t))\n",
        "    t = s\n",
        "\n",
        "politica.reverse()\n",
        "print(\"\\nPolitica de producao (produzir em... cobre periodos...):\")\n",
        "for p in politica:\n",
        "    print(f\"Produzir em t={p[0]} para cobrir ate t={p[1]}\")\n",
        "\n",
        "print(\"\\nVetor y_t (1 se ha producao no periodo t):\")\n",
        "print(y)\n",
        "print(\"\\nVetor X_t (quantidade produzida por periodo):\")\n",
        "print(X)\n"
      ],
      "metadata": {
        "colab": {
          "base_uri": "https://localhost:8080/",
          "height": 0
        },
        "id": "nhcyhFBVOOSs",
        "outputId": "4a870cb7-d94a-4e4c-dcdf-a345e34525b2"
      },
      "execution_count": 2,
      "outputs": [
        {
          "output_type": "stream",
          "name": "stdout",
          "text": [
            "Custo total otimizado: 1138\n",
            "\n",
            "Politica de producao (produzir em... cobre periodos...):\n",
            "Produzir em t=1 para cobrir ate t=2\n",
            "Produzir em t=3 para cobrir ate t=3\n",
            "Produzir em t=4 para cobrir ate t=4\n",
            "Produzir em t=5 para cobrir ate t=6\n",
            "Produzir em t=7 para cobrir ate t=7\n",
            "Produzir em t=8 para cobrir ate t=9\n",
            "Produzir em t=10 para cobrir ate t=10\n",
            "Produzir em t=11 para cobrir ate t=12\n",
            "\n",
            "Vetor y_t (1 se ha producao no periodo t):\n",
            "[1, 0, 1, 1, 1, 0, 1, 1, 0, 1, 1, 0]\n",
            "\n",
            "Vetor X_t (quantidade produzida por periodo):\n",
            "[98, 0, 36, 61, 87, 0, 34, 112, 0, 67, 135, 0]\n"
          ]
        }
      ]
    }
  ]
}